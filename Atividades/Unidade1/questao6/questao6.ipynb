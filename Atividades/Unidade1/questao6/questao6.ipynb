{
 "cells": [
  {
   "cell_type": "code",
   "execution_count": 2,
   "metadata": {},
   "outputs": [],
   "source": [
    "import pandas as pd"
   ]
  },
  {
   "cell_type": "code",
   "execution_count": 12,
   "metadata": {},
   "outputs": [],
   "source": [
    "i = 1\n",
    "for chunk in pd.read_csv('ex6.csv', chunksize=2000):\n",
    "    chunk.to_csv('file'+str(i)+'.csv')\n",
    "    i = i + 1"
   ]
  }
 ],
 "metadata": {
  "interpreter": {
   "hash": "fdf69c161161cc14460b6cbdd3e83aa649f6987a6885c44303893db815be1b4d"
  },
  "kernelspec": {
   "display_name": "Python 3.9.6 64-bit ('env': venv)",
   "name": "python3"
  },
  "language_info": {
   "codemirror_mode": {
    "name": "ipython",
    "version": 3
   },
   "file_extension": ".py",
   "mimetype": "text/x-python",
   "name": "python",
   "nbconvert_exporter": "python",
   "pygments_lexer": "ipython3",
   "version": "3.9.6"
  },
  "orig_nbformat": 4
 },
 "nbformat": 4,
 "nbformat_minor": 2
}
