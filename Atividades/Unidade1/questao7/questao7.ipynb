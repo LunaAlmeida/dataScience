{
 "cells": [
  {
   "cell_type": "code",
   "execution_count": 4,
   "metadata": {},
   "outputs": [],
   "source": [
    "from collections import Counter"
   ]
  },
  {
   "cell_type": "code",
   "execution_count": 14,
   "metadata": {},
   "outputs": [
    {
     "name": "stdout",
     "output_type": "stream",
     "text": [
      "Counter({'de': 17, 'e': 7, 'dados': 6, 'o': 4, 'para': 3, 'a': 3, 'Ciência': 2, 'data': 2, 'é': 2, 'análise': 2, 'ou': 2, 'que': 2, 'insights': 2, 'tomadas': 2, 'machine': 2, 'áreas': 2, 'como': 2, 'como:': 2, 'A': 2, 'ciência': 2, 'em': 2, '(em': 1, 'inglês:': 1, 'science': 1, ')': 1, 'uma': 1, 'área': 1, 'interdisciplinar': 1, 'voltada': 1, 'estudo': 1, 'dados,': 1, 'estruturados': 1, 'não,': 1, 'visa': 1, 'extração': 1, 'conhecimento': 1, 'possíveis': 1, 'decisão,': 1, 'maneira': 1, 'similar': 1, 'à': 1, 'mineração': 1, 'dados.': 1, 'alia': 1, 'big': 1, 'learning,': 1, 'além': 1, 'técnicas': 1, 'outras': 1, 'interdisciplinares': 1, 'estatística,': 1, 'economia,': 1, 'engenharia': 1, 'outros': 1, 'subcampos': 1, 'da': 1, 'computação': 1, 'banco': 1, 'agrupamentos': 1, '(cluster': 1, 'analysis).': 1, 'um': 1, 'campo': 1, 'já': 1, 'existe': 1, 'há': 1, '30': 1, 'anos,': 1, 'porém': 1, 'ganhou': 1, 'mais': 1, 'destaque': 1, 'nos': 1, 'últimos': 1, 'anos': 1, 'devido': 1, 'alguns': 1, 'fatores': 1, 'surgimento': 1, 'popularização': 1, 'do': 1, 'Big': 1, 'Data': 1, 'desenvolvimento': 1, 'learning.': 1, 'pode,': 1, 'por': 1, 'exemplo,': 1, 'transformar': 1, 'essa': 1, 'grande': 1, 'quantidade': 1, 'brutos': 1, 'negócios,': 1, 'com': 1, 'isso,': 1, 'auxiliar': 1, 'empresas': 1, 'decisões': 1, 'atingir': 1, 'melhores': 1, 'resultados.': 1, 'Fonte:': 1, 'https://pt.wikipedia.org/wiki/Ci%C3%AAncia_de_dados': 1})\n"
     ]
    }
   ],
   "source": [
    "with open('ciência_de_dados.txt', encoding = 'iso-8859-1') as file:\n",
    "    c = Counter(file.read().split())\n",
    "print(c)\n"
   ]
  }
 ],
 "metadata": {
  "interpreter": {
   "hash": "598742d582e13a70371e0b0448be5ef51aef075539d85303048c3e00244692d0"
  },
  "kernelspec": {
   "display_name": "Python 3.8.8 64-bit ('base': conda)",
   "language": "python",
   "name": "python3"
  },
  "language_info": {
   "codemirror_mode": {
    "name": "ipython",
    "version": 3
   },
   "file_extension": ".py",
   "mimetype": "text/x-python",
   "name": "python",
   "nbconvert_exporter": "python",
   "pygments_lexer": "ipython3",
   "version": "3.9.6"
  },
  "orig_nbformat": 4
 },
 "nbformat": 4,
 "nbformat_minor": 2
}
