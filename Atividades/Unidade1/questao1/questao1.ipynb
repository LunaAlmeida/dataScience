{
 "cells": [
  {
   "cell_type": "code",
   "execution_count": 1,
   "metadata": {},
   "outputs": [
    {
     "name": "stdout",
     "output_type": "stream",
     "text": [
      "Arquivo criado\n"
     ]
    }
   ],
   "source": [
    "text = open('arquivo.txt', 'w+', encoding='utf-8')\n",
    "print('Arquivo criado')\n",
    "\n",
    "while True:\n",
    "    texto = input('Digite seu texto: ')\n",
    "    text.write(texto)\n",
    "    text.write('\\n')\n",
    "    continuar = ' '\n",
    "    while continuar not in 'SN':\n",
    "        continuar = str(input('Quer escrever mais? Digite [S] ou [N]')).upper().strip()\n",
    "    \n",
    "    if continuar == 'N':\n",
    "        break;\n"
   ]
  },
  {
   "cell_type": "code",
   "execution_count": 2,
   "metadata": {},
   "outputs": [
    {
     "data": {
      "text/plain": [
       "0"
      ]
     },
     "execution_count": 2,
     "metadata": {},
     "output_type": "execute_result"
    }
   ],
   "source": [
    "text.seek(0, 0)"
   ]
  },
  {
   "cell_type": "code",
   "execution_count": 3,
   "metadata": {},
   "outputs": [
    {
     "data": {
      "text/plain": [
       "['Olá, que belo dia', 'Para comer bolo de morago']"
      ]
     },
     "execution_count": 3,
     "metadata": {},
     "output_type": "execute_result"
    }
   ],
   "source": [
    "lines = [x.rstrip() for x in text]\n",
    "lines"
   ]
  },
  {
   "cell_type": "code",
   "execution_count": 4,
   "metadata": {},
   "outputs": [],
   "source": [
    "text.close()"
   ]
  }
 ],
 "metadata": {
  "interpreter": {
   "hash": "fdf69c161161cc14460b6cbdd3e83aa649f6987a6885c44303893db815be1b4d"
  },
  "kernelspec": {
   "display_name": "Python 3.9.6 64-bit ('env': venv)",
   "name": "python3"
  },
  "language_info": {
   "codemirror_mode": {
    "name": "ipython",
    "version": 3
   },
   "file_extension": ".py",
   "mimetype": "text/x-python",
   "name": "python",
   "nbconvert_exporter": "python",
   "pygments_lexer": "ipython3",
   "version": "3.9.6"
  },
  "orig_nbformat": 4
 },
 "nbformat": 4,
 "nbformat_minor": 2
}
