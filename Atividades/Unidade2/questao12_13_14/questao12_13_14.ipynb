{
 "cells": [
  {
   "cell_type": "markdown",
   "metadata": {},
   "source": [
    "# Questão 12"
   ]
  },
  {
   "cell_type": "code",
   "execution_count": 1,
   "metadata": {},
   "outputs": [],
   "source": [
    "import mysql.connector\n",
    "import os\n",
    "from mysql.connector import errorcode\n",
    "from datetime import date, datetime, timedelta\n"
   ]
  },
  {
   "cell_type": "code",
   "execution_count": 2,
   "metadata": {},
   "outputs": [],
   "source": [
    "user_name = os.environ.get('DB_USER')\n",
    "user_password = os.environ.get('DB_PASS')"
   ]
  },
  {
   "cell_type": "code",
   "execution_count": 3,
   "metadata": {},
   "outputs": [],
   "source": [
    "cnx = mysql.connector.connect(user=user_name, password=user_password,\n",
    "                              host='localhost',\n",
    "                              database='bd')"
   ]
  },
  {
   "cell_type": "code",
   "execution_count": 4,
   "metadata": {},
   "outputs": [
    {
     "data": {
      "text/plain": [
       "<mysql.connector.connection_cext.CMySQLConnection at 0x2ac43c9eb50>"
      ]
     },
     "execution_count": 4,
     "metadata": {},
     "output_type": "execute_result"
    }
   ],
   "source": [
    "cnx"
   ]
  },
  {
   "cell_type": "code",
   "execution_count": 5,
   "metadata": {},
   "outputs": [],
   "source": [
    "TABLES = {}\n",
    "TABLES['especialista'] = (\n",
    "    \"CREATE TABLE `especialista` (\"\n",
    "    \"  `id_esp` int(11) NOT NULL AUTO_INCREMENT,\"\n",
    "    \"  `email` varchar(30) NOT NULL,\"\n",
    "    \"  `nome` varchar(30) NOT NULL,\"\n",
    "    \"  `telefone` int(14) NOT NULL,\"\n",
    "    \"  PRIMARY KEY (`id_esp`)\"\n",
    "    \") ENGINE=InnoDB\")\n"
   ]
  },
  {
   "cell_type": "code",
   "execution_count": 6,
   "metadata": {},
   "outputs": [],
   "source": [
    "TABLES['flor'] = (\n",
    "    \"CREATE TABLE `flor` (\"\n",
    "    \"  `id_flor` int(11) NOT NULL,\"\n",
    "    \"  `nome` varchar(30) NOT NULL,\"\n",
    "    \"  `cod` int(11) NOT NULL,\"\n",
    "    \"  PRIMARY KEY (`id_flor`),\"\n",
    "    \"  FOREIGN KEY (`id_flor`) \"\n",
    "    \"     REFERENCES `especialista` (`id_esp`)\"\n",
    "    \") ENGINE=InnoDB\")"
   ]
  },
  {
   "cell_type": "code",
   "execution_count": 7,
   "metadata": {},
   "outputs": [
    {
     "name": "stdout",
     "output_type": "stream",
     "text": [
      "Criando tabela especialista: OK\n",
      "Criando tabela flor: OK\n"
     ]
    },
    {
     "data": {
      "text/plain": [
       "True"
      ]
     },
     "execution_count": 7,
     "metadata": {},
     "output_type": "execute_result"
    }
   ],
   "source": [
    "cursor = cnx.cursor()\n",
    "\n",
    "for table_name in TABLES:\n",
    "    table_description = TABLES[table_name]\n",
    "    try:\n",
    "        print(\"Criando tabela {}: \".format(table_name), end='')\n",
    "        cursor.execute(table_description)\n",
    "    except mysql.connector.Error as err:\n",
    "        if err.errno == errorcode.ER_TABLE_EXISTS_ERROR:\n",
    "            print(\"A tabela já existe.\")\n",
    "        else:\n",
    "            print(err.msg)\n",
    "    else:\n",
    "        print(\"OK\")\n",
    "\n",
    "cursor.close()"
   ]
  },
  {
   "cell_type": "code",
   "execution_count": 8,
   "metadata": {},
   "outputs": [],
   "source": [
    "cursor = cnx.cursor()\n",
    "\n",
    "insert_especialista =(\"INSERT INTO especialista\"\n",
    "                    \"(email, nome, telefone)\"\n",
    "                    \"VALUES (%s, %s, %s)\")\n",
    "\n",
    "insert_flor = (\"INSERT INTO flor\"\n",
    "                    \"(id_flor, nome, cod)\"\n",
    "                    \"VALUES (%s, %s, %s)\")\n",
    "\n",
    "data_especialistas = [\n",
    "    ('Especialista1@gmail.com', 'Especialista 1', 111111111),\n",
    "    ('Especialista2@gmail.com', 'Especialista 2', 211111111),\n",
    "    ('Especialista3@gmail.com', 'Especialista 3', 311111111),\n",
    "]\n",
    "\n",
    "data_flor = [\n",
    "    ('flor 1', 1),\n",
    "    ('flor 2', 2),\n",
    "    ('flor 3', 3),\n",
    "    ('flor 5', 4),\n",
    "    ('flor 4', 5),\n",
    "]\n",
    "for x, especilista in enumerate(data_especialistas):\n",
    "    cursor.execute(insert_especialista, especilista)\n",
    "    last_id = cursor.lastrowid\n",
    "    cursor.execute(insert_flor, (last_id,) + data_flor[x])\n",
    "\n",
    "cnx.commit()"
   ]
  },
  {
   "cell_type": "code",
   "execution_count": 9,
   "metadata": {},
   "outputs": [
    {
     "data": {
      "text/plain": [
       "<bound method CMySQLCursor.close of <mysql.connector.cursor_cext.CMySQLCursor object at 0x000002AC43E1A7F0>>"
      ]
     },
     "execution_count": 9,
     "metadata": {},
     "output_type": "execute_result"
    }
   ],
   "source": [
    "cursor.close"
   ]
  },
  {
   "cell_type": "markdown",
   "metadata": {},
   "source": [
    "# Questão 13"
   ]
  },
  {
   "cell_type": "code",
   "execution_count": 10,
   "metadata": {},
   "outputs": [
    {
     "name": "stdout",
     "output_type": "stream",
     "text": [
      "('Especialista 1', 'flor 1')\n",
      "('Especialista 2', 'flor 2')\n",
      "('Especialista 3', 'flor 3')\n"
     ]
    }
   ],
   "source": [
    "cursor = cnx.cursor()\n",
    "sql = \"SELECT \\\n",
    "    especialista.nome AS esp, \\\n",
    "    flor.nome AS flor \\\n",
    "    FROM especialista \\\n",
    "    INNER JOIN flor ON especialista.id_esp = flor.id_flor\"\n",
    "\n",
    "cursor.execute(sql)\n",
    "\n",
    "resultado = cursor.fetchall()\n",
    "\n",
    "for x in resultado:\n",
    "    print(x)"
   ]
  },
  {
   "cell_type": "markdown",
   "metadata": {},
   "source": [
    "# Questão 14"
   ]
  },
  {
   "cell_type": "code",
   "execution_count": 11,
   "metadata": {},
   "outputs": [],
   "source": [
    "alteracao = [\"UPDATE especialista SET nome = %s WHERE email = %s\",\n",
    "            \"UPDATE especialista SET telefone = %s WHERE nome = %s\"\n",
    "            ]\n",
    "\n",
    "valor = [(\"Especialista 11\", \"Especialista1@gmail.com\"),\n",
    "            (9999999, \"Especialista 3\")]\n",
    "\n",
    "for x, alterar in enumerate(alteracao):\n",
    "    cursor.execute(alterar, valor[x])\n",
    "\n",
    "alteracao_flor = \"UPDATE flor SET cod = %s WHERE id_flor = %s\"\n",
    "valor = (24, 3)\n",
    "\n",
    "cursor.execute(alteracao_flor, valor)\n",
    "\n",
    "cnx.commit()"
   ]
  },
  {
   "cell_type": "code",
   "execution_count": 12,
   "metadata": {},
   "outputs": [],
   "source": [
    "deletar_flor = \"DELETE FROM flor WHERE nome = %s\"\n",
    "deletar_especialista = \"DELETE FROM especialista WHERE nome = %s\"\n",
    "valor = (\"Flor 2\", )\n",
    "valor_1 = (\"Especialista 2\", )\n",
    "\n",
    "cursor.execute(deletar_flor, valor)\n",
    "cursor.execute(deletar_especialista, valor_1)\n",
    "\n",
    "cnx.commit()"
   ]
  }
 ],
 "metadata": {
  "interpreter": {
   "hash": "fdf69c161161cc14460b6cbdd3e83aa649f6987a6885c44303893db815be1b4d"
  },
  "kernelspec": {
   "display_name": "Python 3.9.6 64-bit ('env': venv)",
   "language": "python",
   "name": "python3"
  },
  "language_info": {
   "codemirror_mode": {
    "name": "ipython",
    "version": 3
   },
   "file_extension": ".py",
   "mimetype": "text/x-python",
   "name": "python",
   "nbconvert_exporter": "python",
   "pygments_lexer": "ipython3",
   "version": "3.9.6"
  },
  "orig_nbformat": 4
 },
 "nbformat": 4,
 "nbformat_minor": 2
}
